{
 "cells": [
  {
   "cell_type": "markdown",
   "id": "6ec7c4c6-a7f6-4da9-b98b-c59082622bc7",
   "metadata": {},
   "source": [
    "# Predict Salary"
   ]
  },
  {
   "cell_type": "code",
   "execution_count": 35,
   "id": "fd331f24-17c1-489c-a5ef-a372c973f05a",
   "metadata": {},
   "outputs": [],
   "source": [
    "import pandas as pd\n",
    "import numpy as np\n",
    "import matplotlib.pyplot as plt\n",
    "import seaborn as sns\n",
    "\n",
    "from sklearn.preprocessing import LabelEncoder,StandardScaler\n",
    "\n",
    "from sklearn.model_selection import train_test_split,GridSearchCV\n",
    "from sklearn.metrics import classification_report\n",
    "from sklearn.metrics import confusion_matrix\n",
    "\n",
    "from sklearn.linear_model import LogisticRegression\n",
    "from sklearn.ensemble import RandomForestClassifier \n",
    "from sklearn.ensemble import GradientBoostingClassifier \n",
    "from sklearn.tree import DecisionTreeClassifier\n",
    "from sklearn.neighbors import KNeighborsClassifier\n",
    "from xgboost import XGBRegressor\n",
    "\n",
    "from sklearn.naive_bayes import GaussianNB\n",
    "from sklearn.svm import SVC\n",
    "\n",
    "from sklearn.metrics import accuracy_score\n",
    "\n",
    "from sklearn.metrics import r2_score,mean_squared_error\n",
    "import warnings\n",
    "warnings.filterwarnings('ignore')"
   ]
  },
  {
   "cell_type": "code",
   "execution_count": 3,
   "id": "3f7e5c3c-94ef-4e1b-9a34-a5dbed166e04",
   "metadata": {},
   "outputs": [],
   "source": [
    "data=pd.read_csv(r'C:\\Users\\hp\\Desktop\\Projects\\Data-Projects\\Salary_dataset.csv')"
   ]
  },
  {
   "cell_type": "code",
   "execution_count": 5,
   "id": "935f5a18-8162-435c-985b-c37be1e1b55e",
   "metadata": {},
   "outputs": [
    {
     "data": {
      "text/html": [
       "<div>\n",
       "<style scoped>\n",
       "    .dataframe tbody tr th:only-of-type {\n",
       "        vertical-align: middle;\n",
       "    }\n",
       "\n",
       "    .dataframe tbody tr th {\n",
       "        vertical-align: top;\n",
       "    }\n",
       "\n",
       "    .dataframe thead th {\n",
       "        text-align: right;\n",
       "    }\n",
       "</style>\n",
       "<table border=\"1\" class=\"dataframe\">\n",
       "  <thead>\n",
       "    <tr style=\"text-align: right;\">\n",
       "      <th></th>\n",
       "      <th>Unnamed: 0</th>\n",
       "      <th>YearsExperience</th>\n",
       "      <th>Salary</th>\n",
       "    </tr>\n",
       "  </thead>\n",
       "  <tbody>\n",
       "    <tr>\n",
       "      <th>0</th>\n",
       "      <td>0</td>\n",
       "      <td>1.2</td>\n",
       "      <td>39344.0</td>\n",
       "    </tr>\n",
       "    <tr>\n",
       "      <th>1</th>\n",
       "      <td>1</td>\n",
       "      <td>1.4</td>\n",
       "      <td>46206.0</td>\n",
       "    </tr>\n",
       "    <tr>\n",
       "      <th>2</th>\n",
       "      <td>2</td>\n",
       "      <td>1.6</td>\n",
       "      <td>37732.0</td>\n",
       "    </tr>\n",
       "    <tr>\n",
       "      <th>3</th>\n",
       "      <td>3</td>\n",
       "      <td>2.1</td>\n",
       "      <td>43526.0</td>\n",
       "    </tr>\n",
       "    <tr>\n",
       "      <th>4</th>\n",
       "      <td>4</td>\n",
       "      <td>2.3</td>\n",
       "      <td>39892.0</td>\n",
       "    </tr>\n",
       "  </tbody>\n",
       "</table>\n",
       "</div>"
      ],
      "text/plain": [
       "   Unnamed: 0  YearsExperience   Salary\n",
       "0           0              1.2  39344.0\n",
       "1           1              1.4  46206.0\n",
       "2           2              1.6  37732.0\n",
       "3           3              2.1  43526.0\n",
       "4           4              2.3  39892.0"
      ]
     },
     "execution_count": 5,
     "metadata": {},
     "output_type": "execute_result"
    }
   ],
   "source": [
    "data.head()"
   ]
  },
  {
   "cell_type": "code",
   "execution_count": 7,
   "id": "d00eefda-a8c2-4e42-a255-7bb4a452d1c5",
   "metadata": {},
   "outputs": [
    {
     "data": {
      "text/plain": [
       "(30, 3)"
      ]
     },
     "execution_count": 7,
     "metadata": {},
     "output_type": "execute_result"
    }
   ],
   "source": [
    "data.shape"
   ]
  },
  {
   "cell_type": "code",
   "execution_count": 9,
   "id": "59cab807-0ed6-449f-ab71-63f80f777496",
   "metadata": {},
   "outputs": [
    {
     "data": {
      "text/html": [
       "<div>\n",
       "<style scoped>\n",
       "    .dataframe tbody tr th:only-of-type {\n",
       "        vertical-align: middle;\n",
       "    }\n",
       "\n",
       "    .dataframe tbody tr th {\n",
       "        vertical-align: top;\n",
       "    }\n",
       "\n",
       "    .dataframe thead th {\n",
       "        text-align: right;\n",
       "    }\n",
       "</style>\n",
       "<table border=\"1\" class=\"dataframe\">\n",
       "  <thead>\n",
       "    <tr style=\"text-align: right;\">\n",
       "      <th></th>\n",
       "      <th>Unnamed: 0</th>\n",
       "      <th>YearsExperience</th>\n",
       "      <th>Salary</th>\n",
       "    </tr>\n",
       "  </thead>\n",
       "  <tbody>\n",
       "    <tr>\n",
       "      <th>25</th>\n",
       "      <td>25</td>\n",
       "      <td>9.1</td>\n",
       "      <td>105583.0</td>\n",
       "    </tr>\n",
       "    <tr>\n",
       "      <th>26</th>\n",
       "      <td>26</td>\n",
       "      <td>9.6</td>\n",
       "      <td>116970.0</td>\n",
       "    </tr>\n",
       "    <tr>\n",
       "      <th>27</th>\n",
       "      <td>27</td>\n",
       "      <td>9.7</td>\n",
       "      <td>112636.0</td>\n",
       "    </tr>\n",
       "    <tr>\n",
       "      <th>28</th>\n",
       "      <td>28</td>\n",
       "      <td>10.4</td>\n",
       "      <td>122392.0</td>\n",
       "    </tr>\n",
       "    <tr>\n",
       "      <th>29</th>\n",
       "      <td>29</td>\n",
       "      <td>10.6</td>\n",
       "      <td>121873.0</td>\n",
       "    </tr>\n",
       "  </tbody>\n",
       "</table>\n",
       "</div>"
      ],
      "text/plain": [
       "    Unnamed: 0  YearsExperience    Salary\n",
       "25          25              9.1  105583.0\n",
       "26          26              9.6  116970.0\n",
       "27          27              9.7  112636.0\n",
       "28          28             10.4  122392.0\n",
       "29          29             10.6  121873.0"
      ]
     },
     "execution_count": 9,
     "metadata": {},
     "output_type": "execute_result"
    }
   ],
   "source": [
    "data.tail()"
   ]
  },
  {
   "cell_type": "code",
   "execution_count": 11,
   "id": "886930ab-557a-403a-b2dc-8cf4781f7bba",
   "metadata": {},
   "outputs": [
    {
     "name": "stdout",
     "output_type": "stream",
     "text": [
      "<class 'pandas.core.frame.DataFrame'>\n",
      "RangeIndex: 30 entries, 0 to 29\n",
      "Data columns (total 3 columns):\n",
      " #   Column           Non-Null Count  Dtype  \n",
      "---  ------           --------------  -----  \n",
      " 0   Unnamed: 0       30 non-null     int64  \n",
      " 1   YearsExperience  30 non-null     float64\n",
      " 2   Salary           30 non-null     float64\n",
      "dtypes: float64(2), int64(1)\n",
      "memory usage: 852.0 bytes\n"
     ]
    }
   ],
   "source": [
    "data.info()"
   ]
  },
  {
   "cell_type": "code",
   "execution_count": 13,
   "id": "945ccc0a-a1dd-4ef2-bd4b-de75da3b18c0",
   "metadata": {},
   "outputs": [
    {
     "data": {
      "text/plain": [
       "Unnamed: 0         0\n",
       "YearsExperience    0\n",
       "Salary             0\n",
       "dtype: int64"
      ]
     },
     "execution_count": 13,
     "metadata": {},
     "output_type": "execute_result"
    }
   ],
   "source": [
    "data.isnull().sum()"
   ]
  },
  {
   "cell_type": "code",
   "execution_count": 15,
   "id": "bbdeddbf-f05b-4103-8067-9600f2d5d8fe",
   "metadata": {},
   "outputs": [
    {
     "data": {
      "text/plain": [
       "Index(['Unnamed: 0', 'YearsExperience', 'Salary'], dtype='object')"
      ]
     },
     "execution_count": 15,
     "metadata": {},
     "output_type": "execute_result"
    }
   ],
   "source": [
    "data.columns"
   ]
  },
  {
   "cell_type": "code",
   "execution_count": 17,
   "id": "0fd269e8-67b4-4f50-b942-f2cb6b1e25cb",
   "metadata": {},
   "outputs": [
    {
     "data": {
      "text/plain": [
       "<Axes: >"
      ]
     },
     "execution_count": 17,
     "metadata": {},
     "output_type": "execute_result"
    },
    {
     "data": {
      "image/png": "[encoded data removed]",
      "text/plain": [
       "<Figure size 640x480 with 2 Axes>"
      ]
     },
     "metadata": {},
     "output_type": "display_data"
    }
   ],
   "source": [
    "sns.heatmap(data.isnull())"
   ]
  },
  {
   "cell_type": "code",
   "execution_count": 19,
   "id": "345ddbf5-0fb3-43ad-879a-d419116a6ab2",
   "metadata": {},
   "outputs": [
    {
     "data": {
      "text/plain": [
       "0"
      ]
     },
     "execution_count": 19,
     "metadata": {},
     "output_type": "execute_result"
    }
   ],
   "source": [
    "data.duplicated().sum()"
   ]
  },
  {
   "cell_type": "code",
   "execution_count": 21,
   "id": "86dd1db2-2981-4958-b3eb-44fa21974d06",
   "metadata": {},
   "outputs": [
    {
     "data": {
      "text/html": [
       "<div>\n",
       "<style scoped>\n",
       "    .dataframe tbody tr th:only-of-type {\n",
       "        vertical-align: middle;\n",
       "    }\n",
       "\n",
       "    .dataframe tbody tr th {\n",
       "        vertical-align: top;\n",
       "    }\n",
       "\n",
       "    .dataframe thead th {\n",
       "        text-align: right;\n",
       "    }\n",
       "</style>\n",
       "<table border=\"1\" class=\"dataframe\">\n",
       "  <thead>\n",
       "    <tr style=\"text-align: right;\">\n",
       "      <th></th>\n",
       "      <th>Unnamed: 0</th>\n",
       "      <th>YearsExperience</th>\n",
       "      <th>Salary</th>\n",
       "    </tr>\n",
       "  </thead>\n",
       "  <tbody>\n",
       "    <tr>\n",
       "      <th>Unnamed: 0</th>\n",
       "      <td>1.000000</td>\n",
       "      <td>0.986460</td>\n",
       "      <td>0.960826</td>\n",
       "    </tr>\n",
       "    <tr>\n",
       "      <th>YearsExperience</th>\n",
       "      <td>0.986460</td>\n",
       "      <td>1.000000</td>\n",
       "      <td>0.978242</td>\n",
       "    </tr>\n",
       "    <tr>\n",
       "      <th>Salary</th>\n",
       "      <td>0.960826</td>\n",
       "      <td>0.978242</td>\n",
       "      <td>1.000000</td>\n",
       "    </tr>\n",
       "  </tbody>\n",
       "</table>\n",
       "</div>"
      ],
      "text/plain": [
       "                 Unnamed: 0  YearsExperience    Salary\n",
       "Unnamed: 0         1.000000         0.986460  0.960826\n",
       "YearsExperience    0.986460         1.000000  0.978242\n",
       "Salary             0.960826         0.978242  1.000000"
      ]
     },
     "execution_count": 21,
     "metadata": {},
     "output_type": "execute_result"
    }
   ],
   "source": [
    "data.corr()"
   ]
  },
  {
   "cell_type": "markdown",
   "id": "da91358e-730f-4fcc-b735-0439399455e1",
   "metadata": {},
   "source": [
    "# Create Model"
   ]
  },
  {
   "cell_type": "code",
   "execution_count": 23,
   "id": "ae8d3285-808a-413c-ad35-9cfe6675a0bb",
   "metadata": {},
   "outputs": [],
   "source": [
    "x=data.drop('Salary',axis=1)\n",
    "y=data['Salary']"
   ]
  },
  {
   "cell_type": "code",
   "execution_count": 25,
   "id": "39f22e49-555f-4de1-a400-2c12bbee4ed8",
   "metadata": {},
   "outputs": [],
   "source": [
    "x_train,x_test,y_train,y_test=train_test_split(x,y,test_size=0.2,random_state=21)"
   ]
  },
  {
   "cell_type": "code",
   "execution_count": 27,
   "id": "26e472f2-13a8-4e87-9679-a8c99d30411e",
   "metadata": {},
   "outputs": [],
   "source": [
    "model1=LogisticRegression()\n",
    "model2=RandomForestClassifier()\n",
    "model3=GaussianNB()\n",
    "model4=SVC()\n",
    "model5=DecisionTreeClassifier()\n",
    "model6=GradientBoostingClassifier()"
   ]
  },
  {
   "cell_type": "code",
   "execution_count": 29,
   "id": "91cb5ac3-f757-4aaf-af6f-bcd0cd2efe1c",
   "metadata": {},
   "outputs": [],
   "source": [
    "Algorithm=['LogisticRegression','RandomForestClassifier','GaussianNB','SVC','DecisionTreeClassifier','GradientBoostingClassifier']\n",
    "R2=[]\n",
    "RMSE=[]"
   ]
  },
  {
   "cell_type": "code",
   "execution_count": 31,
   "id": "f36a1d0d-82df-4d41-94af-d40d656ceee1",
   "metadata": {},
   "outputs": [],
   "source": [
    "def models(model):\n",
    "    model.fit(x_train,y_train)\n",
    "    pre=model.predict(x_test)\n",
    "    r2=r2_score(y_test,pre)\n",
    "    rmse=np.sqrt(mean_squared_error(y_test,pre))\n",
    "    R2.append(r2)\n",
    "    RMSE.append(rmse)\n",
    "    score=model.score(x_test,y_test)\n",
    "    print(f\"the score of model is :{score}\")"
   ]
  },
  {
   "cell_type": "code",
   "execution_count": 37,
   "id": "538e3ee9-3dfe-4888-b36f-49c89b3b91b0",
   "metadata": {},
   "outputs": [
    {
     "name": "stdout",
     "output_type": "stream",
     "text": [
      "the score of model is :0.0\n",
      "the score of model is :0.0\n",
      "the score of model is :0.0\n",
      "the score of model is :0.0\n",
      "the score of model is :0.0\n",
      "the score of model is :0.0\n"
     ]
    }
   ],
   "source": [
    "models(model1)\n",
    "models(model2)  \n",
    "models(model3)\n",
    "models(model4)  \n",
    "models(model5)\n",
    "models(model6)"
   ]
  },
  {
   "cell_type": "code",
   "execution_count": 39,
   "id": "0770460a-4321-44d9-b90e-46a02766a20d",
   "metadata": {},
   "outputs": [
    {
     "data": {
      "text/html": [
       "<div>\n",
       "<style scoped>\n",
       "    .dataframe tbody tr th:only-of-type {\n",
       "        vertical-align: middle;\n",
       "    }\n",
       "\n",
       "    .dataframe tbody tr th {\n",
       "        vertical-align: top;\n",
       "    }\n",
       "\n",
       "    .dataframe thead th {\n",
       "        text-align: right;\n",
       "    }\n",
       "</style>\n",
       "<table border=\"1\" class=\"dataframe\">\n",
       "  <thead>\n",
       "    <tr style=\"text-align: right;\">\n",
       "      <th></th>\n",
       "      <th>Algorithm</th>\n",
       "      <th>R2_score</th>\n",
       "      <th>Rmse</th>\n",
       "    </tr>\n",
       "  </thead>\n",
       "  <tbody>\n",
       "    <tr>\n",
       "      <th>0</th>\n",
       "      <td>LogisticRegression</td>\n",
       "      <td>0.928106</td>\n",
       "      <td>7617.628885</td>\n",
       "    </tr>\n",
       "    <tr>\n",
       "      <th>1</th>\n",
       "      <td>RandomForestClassifier</td>\n",
       "      <td>0.961253</td>\n",
       "      <td>5592.293745</td>\n",
       "    </tr>\n",
       "    <tr>\n",
       "      <th>2</th>\n",
       "      <td>GaussianNB</td>\n",
       "      <td>0.961253</td>\n",
       "      <td>5592.293745</td>\n",
       "    </tr>\n",
       "    <tr>\n",
       "      <th>3</th>\n",
       "      <td>SVC</td>\n",
       "      <td>0.961253</td>\n",
       "      <td>5592.293745</td>\n",
       "    </tr>\n",
       "    <tr>\n",
       "      <th>4</th>\n",
       "      <td>DecisionTreeClassifier</td>\n",
       "      <td>0.881013</td>\n",
       "      <td>9799.932508</td>\n",
       "    </tr>\n",
       "    <tr>\n",
       "      <th>5</th>\n",
       "      <td>GradientBoostingClassifier</td>\n",
       "      <td>0.905854</td>\n",
       "      <td>8717.151991</td>\n",
       "    </tr>\n",
       "  </tbody>\n",
       "</table>\n",
       "</div>"
      ],
      "text/plain": [
       "                    Algorithm  R2_score         Rmse\n",
       "0          LogisticRegression  0.928106  7617.628885\n",
       "1      RandomForestClassifier  0.961253  5592.293745\n",
       "2                  GaussianNB  0.961253  5592.293745\n",
       "3                         SVC  0.961253  5592.293745\n",
       "4      DecisionTreeClassifier  0.881013  9799.932508\n",
       "5  GradientBoostingClassifier  0.905854  8717.151991"
      ]
     },
     "execution_count": 39,
     "metadata": {},
     "output_type": "execute_result"
    }
   ],
   "source": [
    "df=pd.DataFrame({'Algorithm':Algorithm,'R2_score':R2,'Rmse':RMSE})\n",
    "df"
   ]
  },
  {
   "cell_type": "code",
   "execution_count": 41,
   "id": "937302e7-ae01-4643-9392-d2bf0e3b1f77",
   "metadata": {},
   "outputs": [
    {
     "data": {
      "image/png": "[encoded data removed]",
      "text/plain": [
       "<Figure size 2000x500 with 1 Axes>"
      ]
     },
     "metadata": {},
     "output_type": "display_data"
    }
   ],
   "source": [
    "fig,sx=plt.subplots(figsize=(20,5))\n",
    "plt.plot(df.Algorithm,df.R2_score,label='R2_score')\n",
    "plt.legend()\n",
    "plt.show()"
   ]
  },
  {
   "cell_type": "code",
   "execution_count": 43,
   "id": "88b0acab-6091-48d9-bcba-3ccd4300e60e",
   "metadata": {},
   "outputs": [
    {
     "data": {
      "image/png": "[encoded data removed]",
      "text/plain": [
       "<Figure size 2000x500 with 1 Axes>"
      ]
     },
     "metadata": {},
     "output_type": "display_data"
    }
   ],
   "source": [
    "fig,sx=plt.subplots(figsize=(20,5))\n",
    "plt.plot(df.Algorithm,df.Rmse,label='RMSE')\n",
    "plt.legend()\n",
    "plt.show()"
   ]
  },
  {
   "cell_type": "code",
   "execution_count": 47,
   "id": "c7b5fc46-b514-492e-aa5e-9c7296e6d43f",
   "metadata": {},
   "outputs": [],
   "source": [
    "def pred(model):\n",
    "    model.fit(x_train,y_train)\n",
    "    pre=model.predict(x_test)\n",
    "    print(classification_report(pre,y_test))"
   ]
  },
  {
   "cell_type": "code",
   "execution_count": 49,
   "id": "f9ad3fb1-38e1-4485-85cd-f0b0f0c2f8ff",
   "metadata": {},
   "outputs": [
    {
     "name": "stdout",
     "output_type": "stream",
     "text": [
      "              precision    recall  f1-score   support\n",
      "\n",
      "     39344.0       0.00      0.00      0.00       1.0\n",
      "     43526.0       0.00      0.00      0.00       1.0\n",
      "     46206.0       0.00      0.00      0.00       0.0\n",
      "     56643.0       0.00      0.00      0.00       0.0\n",
      "     91739.0       0.00      0.00      0.00       1.0\n",
      "     98274.0       0.00      0.00      0.00       0.0\n",
      "    101303.0       0.00      0.00      0.00       0.0\n",
      "    105583.0       0.00      0.00      0.00       2.0\n",
      "    113813.0       0.00      0.00      0.00       0.0\n",
      "    121873.0       0.00      0.00      0.00       1.0\n",
      "    122392.0       0.00      0.00      0.00       0.0\n",
      "\n",
      "    accuracy                           0.00       6.0\n",
      "   macro avg       0.00      0.00      0.00       6.0\n",
      "weighted avg       0.00      0.00      0.00       6.0\n",
      "\n"
     ]
    }
   ],
   "source": [
    "pred(model1)"
   ]
  },
  {
   "cell_type": "code",
   "execution_count": 51,
   "id": "deed3612-bf9a-43b8-be50-0a0b24fe6ebb",
   "metadata": {},
   "outputs": [
    {
     "name": "stdout",
     "output_type": "stream",
     "text": [
      "              precision    recall  f1-score   support\n",
      "\n",
      "     39344.0       0.00      0.00      0.00       1.0\n",
      "     46206.0       0.00      0.00      0.00       0.0\n",
      "     56643.0       0.00      0.00      0.00       0.0\n",
      "     60151.0       0.00      0.00      0.00       1.0\n",
      "     91739.0       0.00      0.00      0.00       2.0\n",
      "     98274.0       0.00      0.00      0.00       0.0\n",
      "    101303.0       0.00      0.00      0.00       0.0\n",
      "    109432.0       0.00      0.00      0.00       1.0\n",
      "    112636.0       0.00      0.00      0.00       1.0\n",
      "    113813.0       0.00      0.00      0.00       0.0\n",
      "    122392.0       0.00      0.00      0.00       0.0\n",
      "\n",
      "    accuracy                           0.00       6.0\n",
      "   macro avg       0.00      0.00      0.00       6.0\n",
      "weighted avg       0.00      0.00      0.00       6.0\n",
      "\n"
     ]
    }
   ],
   "source": [
    "pred(model2)"
   ]
  },
  {
   "cell_type": "code",
   "execution_count": 53,
   "id": "5976c5b6-1289-49ae-9d05-f18bdeb53c45",
   "metadata": {},
   "outputs": [
    {
     "name": "stdout",
     "output_type": "stream",
     "text": [
      "              precision    recall  f1-score   support\n",
      "\n",
      "     39344.0       0.00      0.00      0.00       1.0\n",
      "     46206.0       0.00      0.00      0.00       0.0\n",
      "     56643.0       0.00      0.00      0.00       0.0\n",
      "     60151.0       0.00      0.00      0.00       1.0\n",
      "     91739.0       0.00      0.00      0.00       1.0\n",
      "     98274.0       0.00      0.00      0.00       0.0\n",
      "    101303.0       0.00      0.00      0.00       0.0\n",
      "    109432.0       0.00      0.00      0.00       2.0\n",
      "    113813.0       0.00      0.00      0.00       0.0\n",
      "    121873.0       0.00      0.00      0.00       1.0\n",
      "    122392.0       0.00      0.00      0.00       0.0\n",
      "\n",
      "    accuracy                           0.00       6.0\n",
      "   macro avg       0.00      0.00      0.00       6.0\n",
      "weighted avg       0.00      0.00      0.00       6.0\n",
      "\n"
     ]
    }
   ],
   "source": [
    "pred(model3)"
   ]
  }
 ],
 "metadata": {
  "kernelspec": {
   "display_name": "Python 3 (ipykernel)",
   "language": "python",
   "name": "python3"
  },
  "language_info": {
   "codemirror_mode": {
    "name": "ipython",
    "version": 3
   },
   "file_extension": ".py",
   "mimetype": "text/x-python",
   "name": "python",
   "nbconvert_exporter": "python",
   "pygments_lexer": "ipython3",
   "version": "3.12.4"
  }
 },
 "nbformat": 4,
 "nbformat_minor": 5
}
